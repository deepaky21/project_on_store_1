{
 "cells": [
  {
   "cell_type": "code",
   "execution_count": 45,
   "id": "fb03f0b7",
   "metadata": {},
   "outputs": [],
   "source": [
    "import numpy as np\n",
    "import pandas as pd\n",
    "import seaborn as sns"
   ]
  },
  {
   "cell_type": "code",
   "execution_count": 46,
   "id": "95d0a0cb",
   "metadata": {},
   "outputs": [],
   "source": [
    "store_train = pd.read_csv(\"C:/Users/h8man/Downloads/R_Projects/store_train.csv\")"
   ]
  },
  {
   "cell_type": "code",
   "execution_count": 47,
   "id": "5173b5b5",
   "metadata": {},
   "outputs": [],
   "source": [
    "store_test = pd.read_csv(\"C:/Users/h8man/Downloads/R_Projects/store_test.csv\")"
   ]
  },
  {
   "cell_type": "code",
   "execution_count": 48,
   "id": "5014e75a",
   "metadata": {},
   "outputs": [],
   "source": [
    "store_train['data'] = 'train'"
   ]
  },
  {
   "cell_type": "code",
   "execution_count": 49,
   "id": "73937860",
   "metadata": {},
   "outputs": [],
   "source": [
    "store_test['data'] = 'test'"
   ]
  },
  {
   "cell_type": "code",
   "execution_count": 50,
   "id": "a9d77fdd",
   "metadata": {},
   "outputs": [],
   "source": [
    "store = pd.concat([store_train,store_test],axis = 0)"
   ]
  },
  {
   "cell_type": "code",
   "execution_count": 51,
   "id": "88451adf",
   "metadata": {},
   "outputs": [
    {
     "data": {
      "text/html": [
       "<div>\n",
       "<style scoped>\n",
       "    .dataframe tbody tr th:only-of-type {\n",
       "        vertical-align: middle;\n",
       "    }\n",
       "\n",
       "    .dataframe tbody tr th {\n",
       "        vertical-align: top;\n",
       "    }\n",
       "\n",
       "    .dataframe thead th {\n",
       "        text-align: right;\n",
       "    }\n",
       "</style>\n",
       "<table border=\"1\" class=\"dataframe\">\n",
       "  <thead>\n",
       "    <tr style=\"text-align: right;\">\n",
       "      <th></th>\n",
       "      <th>Id</th>\n",
       "      <th>sales0</th>\n",
       "      <th>sales1</th>\n",
       "      <th>sales2</th>\n",
       "      <th>sales3</th>\n",
       "      <th>sales4</th>\n",
       "      <th>country</th>\n",
       "      <th>State</th>\n",
       "      <th>CouSub</th>\n",
       "      <th>countyname</th>\n",
       "      <th>storecode</th>\n",
       "      <th>Areaname</th>\n",
       "      <th>countytownname</th>\n",
       "      <th>population</th>\n",
       "      <th>state_alpha</th>\n",
       "      <th>store_Type</th>\n",
       "      <th>store</th>\n",
       "      <th>data</th>\n",
       "    </tr>\n",
       "  </thead>\n",
       "  <tbody>\n",
       "    <tr>\n",
       "      <th>0</th>\n",
       "      <td>2300919770</td>\n",
       "      <td>848</td>\n",
       "      <td>588</td>\n",
       "      <td>666</td>\n",
       "      <td>1116</td>\n",
       "      <td>1133</td>\n",
       "      <td>9.0</td>\n",
       "      <td>23</td>\n",
       "      <td>19770</td>\n",
       "      <td>Hancock County</td>\n",
       "      <td>NCNTY23009N23009</td>\n",
       "      <td>Hancock County, ME</td>\n",
       "      <td>Eastbrook town</td>\n",
       "      <td>423.0</td>\n",
       "      <td>ME</td>\n",
       "      <td>Supermarket Type1</td>\n",
       "      <td>0.0</td>\n",
       "      <td>train</td>\n",
       "    </tr>\n",
       "    <tr>\n",
       "      <th>1</th>\n",
       "      <td>5000129575</td>\n",
       "      <td>925</td>\n",
       "      <td>717</td>\n",
       "      <td>780</td>\n",
       "      <td>1283</td>\n",
       "      <td>1550</td>\n",
       "      <td>1.0</td>\n",
       "      <td>50</td>\n",
       "      <td>29575</td>\n",
       "      <td>Addison County</td>\n",
       "      <td>NCNTY50001N50001</td>\n",
       "      <td>Addison County, VT</td>\n",
       "      <td>Granville town</td>\n",
       "      <td>298.0</td>\n",
       "      <td>VT</td>\n",
       "      <td>Supermarket Type1</td>\n",
       "      <td>0.0</td>\n",
       "      <td>train</td>\n",
       "    </tr>\n",
       "    <tr>\n",
       "      <th>2</th>\n",
       "      <td>2501308470</td>\n",
       "      <td>924</td>\n",
       "      <td>616</td>\n",
       "      <td>739</td>\n",
       "      <td>1154</td>\n",
       "      <td>1314</td>\n",
       "      <td>13.0</td>\n",
       "      <td>25</td>\n",
       "      <td>8470</td>\n",
       "      <td>Hampden County</td>\n",
       "      <td>METRO44140M44140</td>\n",
       "      <td>Springfield, MA HUD Metro FMR Area</td>\n",
       "      <td>Brimfield town</td>\n",
       "      <td>3609.0</td>\n",
       "      <td>MA</td>\n",
       "      <td>Supermarket Type1</td>\n",
       "      <td>1.0</td>\n",
       "      <td>train</td>\n",
       "    </tr>\n",
       "    <tr>\n",
       "      <th>3</th>\n",
       "      <td>603599999</td>\n",
       "      <td>924</td>\n",
       "      <td>646</td>\n",
       "      <td>683</td>\n",
       "      <td>1292</td>\n",
       "      <td>1297</td>\n",
       "      <td>35.0</td>\n",
       "      <td>6</td>\n",
       "      <td>99999</td>\n",
       "      <td>Lassen County</td>\n",
       "      <td>NCNTY06035N06035</td>\n",
       "      <td>Lassen County, CA</td>\n",
       "      <td>Lassen County</td>\n",
       "      <td>34895.0</td>\n",
       "      <td>CA</td>\n",
       "      <td>Supermarket Type3</td>\n",
       "      <td>0.0</td>\n",
       "      <td>train</td>\n",
       "    </tr>\n",
       "    <tr>\n",
       "      <th>4</th>\n",
       "      <td>5002760100</td>\n",
       "      <td>1017</td>\n",
       "      <td>730</td>\n",
       "      <td>735</td>\n",
       "      <td>1208</td>\n",
       "      <td>1326</td>\n",
       "      <td>27.0</td>\n",
       "      <td>50</td>\n",
       "      <td>60100</td>\n",
       "      <td>Windsor County</td>\n",
       "      <td>NCNTY50027N50027</td>\n",
       "      <td>Windsor County, VT</td>\n",
       "      <td>Rochester town</td>\n",
       "      <td>1139.0</td>\n",
       "      <td>VT</td>\n",
       "      <td>Supermarket Type1</td>\n",
       "      <td>0.0</td>\n",
       "      <td>train</td>\n",
       "    </tr>\n",
       "  </tbody>\n",
       "</table>\n",
       "</div>"
      ],
      "text/plain": [
       "           Id  sales0  sales1  sales2  sales3  sales4  country  State  CouSub  \\\n",
       "0  2300919770     848     588     666    1116    1133      9.0     23   19770   \n",
       "1  5000129575     925     717     780    1283    1550      1.0     50   29575   \n",
       "2  2501308470     924     616     739    1154    1314     13.0     25    8470   \n",
       "3   603599999     924     646     683    1292    1297     35.0      6   99999   \n",
       "4  5002760100    1017     730     735    1208    1326     27.0     50   60100   \n",
       "\n",
       "       countyname         storecode                            Areaname  \\\n",
       "0  Hancock County  NCNTY23009N23009                  Hancock County, ME   \n",
       "1  Addison County  NCNTY50001N50001                  Addison County, VT   \n",
       "2  Hampden County  METRO44140M44140  Springfield, MA HUD Metro FMR Area   \n",
       "3   Lassen County  NCNTY06035N06035                   Lassen County, CA   \n",
       "4  Windsor County  NCNTY50027N50027                  Windsor County, VT   \n",
       "\n",
       "   countytownname  population state_alpha         store_Type  store   data  \n",
       "0  Eastbrook town       423.0          ME  Supermarket Type1    0.0  train  \n",
       "1  Granville town       298.0          VT  Supermarket Type1    0.0  train  \n",
       "2  Brimfield town      3609.0          MA  Supermarket Type1    1.0  train  \n",
       "3   Lassen County     34895.0          CA  Supermarket Type3    0.0  train  \n",
       "4  Rochester town      1139.0          VT  Supermarket Type1    0.0  train  "
      ]
     },
     "execution_count": 51,
     "metadata": {},
     "output_type": "execute_result"
    }
   ],
   "source": [
    "store.head()"
   ]
  },
  {
   "cell_type": "code",
   "execution_count": 52,
   "id": "987977bf",
   "metadata": {},
   "outputs": [],
   "source": [
    "del store['Id']"
   ]
  },
  {
   "cell_type": "code",
   "execution_count": 53,
   "id": "54a28ba3",
   "metadata": {},
   "outputs": [
    {
     "data": {
      "text/plain": [
       "Washington County       105\n",
       "Franklin County          89\n",
       "Aroostook County         73\n",
       "Middlesex County         71\n",
       "Penobscot County         67\n",
       "                       ... \n",
       "Uvalde County             1\n",
       "Fisher County             1\n",
       "Collingsworth County      1\n",
       "DuPage County             1\n",
       "Outagamie County          1\n",
       "Name: countyname, Length: 1962, dtype: int64"
      ]
     },
     "execution_count": 53,
     "metadata": {},
     "output_type": "execute_result"
    }
   ],
   "source": [
    "store['countyname'].value_counts(dropna = False)"
   ]
  },
  {
   "cell_type": "code",
   "execution_count": 54,
   "id": "ad283152",
   "metadata": {},
   "outputs": [
    {
     "data": {
      "text/plain": [
       "1962"
      ]
     },
     "execution_count": 54,
     "metadata": {},
     "output_type": "execute_result"
    }
   ],
   "source": [
    "store['countyname'].nunique()"
   ]
  },
  {
   "cell_type": "code",
   "execution_count": 55,
   "id": "cb57cb61",
   "metadata": {},
   "outputs": [
    {
     "data": {
      "text/plain": [
       "(4769, 17)"
      ]
     },
     "execution_count": 55,
     "metadata": {},
     "output_type": "execute_result"
    }
   ],
   "source": [
    "store.shape"
   ]
  },
  {
   "cell_type": "code",
   "execution_count": 56,
   "id": "93f976a9",
   "metadata": {},
   "outputs": [
    {
     "data": {
      "text/plain": [
       "Boston-Cambridge-Quincy, MA-NH HUD Metro FMR Area              114\n",
       "Aroostook County, ME                                            73\n",
       "Penobscot County, ME (part) HUD Metro FMR Area                  53\n",
       "Hartford-West Hartford-East Hartford, CT HUD Metro FMR Area     51\n",
       "Washington County, ME                                           49\n",
       "                                                              ... \n",
       "Nantucket County, MA                                             1\n",
       "Vinton County, OH                                                1\n",
       "Casey County, KY                                                 1\n",
       "Missoula, MT MSA                                                 1\n",
       "Fremont County, ID                                               1\n",
       "Name: Areaname, Length: 2572, dtype: int64"
      ]
     },
     "execution_count": 56,
     "metadata": {},
     "output_type": "execute_result"
    }
   ],
   "source": [
    "store['Areaname'].value_counts(dropna = False)"
   ]
  },
  {
   "cell_type": "code",
   "execution_count": 57,
   "id": "a1edbffe",
   "metadata": {},
   "outputs": [
    {
     "data": {
      "text/plain": [
       "Washington County     27\n",
       "Jefferson County      25\n",
       "Jackson County        23\n",
       "Lincoln County        22\n",
       "Franklin County       21\n",
       "                      ..\n",
       "Routt County           1\n",
       "Shackelford County     1\n",
       "Hopedale town          1\n",
       "Bernalillo County      1\n",
       "Willington town        1\n",
       "Name: countytownname, Length: 3176, dtype: int64"
      ]
     },
     "execution_count": 57,
     "metadata": {},
     "output_type": "execute_result"
    }
   ],
   "source": [
    "store['countytownname'].value_counts(dropna = False)"
   ]
  },
  {
   "cell_type": "code",
   "execution_count": 58,
   "id": "93f3fce9",
   "metadata": {},
   "outputs": [],
   "source": [
    "store.drop(['storecode','countytownname','Areaname','countyname'],axis = 1, inplace = True)"
   ]
  },
  {
   "cell_type": "code",
   "execution_count": 59,
   "id": "46ba98bd",
   "metadata": {},
   "outputs": [
    {
     "data": {
      "text/plain": [
       "(4769, 13)"
      ]
     },
     "execution_count": 59,
     "metadata": {},
     "output_type": "execute_result"
    }
   ],
   "source": [
    "store.shape"
   ]
  },
  {
   "cell_type": "code",
   "execution_count": 60,
   "id": "046c6e92",
   "metadata": {},
   "outputs": [
    {
     "data": {
      "text/plain": [
       "sales0           int64\n",
       "sales1           int64\n",
       "sales2           int64\n",
       "sales3           int64\n",
       "sales4           int64\n",
       "country        float64\n",
       "State            int64\n",
       "CouSub           int64\n",
       "population     float64\n",
       "state_alpha     object\n",
       "store_Type      object\n",
       "store          float64\n",
       "data            object\n",
       "dtype: object"
      ]
     },
     "execution_count": 60,
     "metadata": {},
     "output_type": "execute_result"
    }
   ],
   "source": [
    "store.dtypes"
   ]
  },
  {
   "cell_type": "code",
   "execution_count": 61,
   "id": "a8f33129",
   "metadata": {},
   "outputs": [
    {
     "data": {
      "text/html": [
       "<div>\n",
       "<style scoped>\n",
       "    .dataframe tbody tr th:only-of-type {\n",
       "        vertical-align: middle;\n",
       "    }\n",
       "\n",
       "    .dataframe tbody tr th {\n",
       "        vertical-align: top;\n",
       "    }\n",
       "\n",
       "    .dataframe thead th {\n",
       "        text-align: right;\n",
       "    }\n",
       "</style>\n",
       "<table border=\"1\" class=\"dataframe\">\n",
       "  <thead>\n",
       "    <tr style=\"text-align: right;\">\n",
       "      <th></th>\n",
       "      <th>sales0</th>\n",
       "      <th>sales1</th>\n",
       "      <th>sales2</th>\n",
       "      <th>sales3</th>\n",
       "      <th>sales4</th>\n",
       "      <th>country</th>\n",
       "      <th>State</th>\n",
       "      <th>CouSub</th>\n",
       "      <th>population</th>\n",
       "      <th>state_alpha</th>\n",
       "      <th>store_Type</th>\n",
       "      <th>store</th>\n",
       "      <th>data</th>\n",
       "    </tr>\n",
       "  </thead>\n",
       "  <tbody>\n",
       "    <tr>\n",
       "      <th>0</th>\n",
       "      <td>848</td>\n",
       "      <td>588</td>\n",
       "      <td>666</td>\n",
       "      <td>1116</td>\n",
       "      <td>1133</td>\n",
       "      <td>9.0</td>\n",
       "      <td>23</td>\n",
       "      <td>19770</td>\n",
       "      <td>423.0</td>\n",
       "      <td>ME</td>\n",
       "      <td>Supermarket Type1</td>\n",
       "      <td>0.0</td>\n",
       "      <td>train</td>\n",
       "    </tr>\n",
       "    <tr>\n",
       "      <th>1</th>\n",
       "      <td>925</td>\n",
       "      <td>717</td>\n",
       "      <td>780</td>\n",
       "      <td>1283</td>\n",
       "      <td>1550</td>\n",
       "      <td>1.0</td>\n",
       "      <td>50</td>\n",
       "      <td>29575</td>\n",
       "      <td>298.0</td>\n",
       "      <td>VT</td>\n",
       "      <td>Supermarket Type1</td>\n",
       "      <td>0.0</td>\n",
       "      <td>train</td>\n",
       "    </tr>\n",
       "    <tr>\n",
       "      <th>2</th>\n",
       "      <td>924</td>\n",
       "      <td>616</td>\n",
       "      <td>739</td>\n",
       "      <td>1154</td>\n",
       "      <td>1314</td>\n",
       "      <td>13.0</td>\n",
       "      <td>25</td>\n",
       "      <td>8470</td>\n",
       "      <td>3609.0</td>\n",
       "      <td>MA</td>\n",
       "      <td>Supermarket Type1</td>\n",
       "      <td>1.0</td>\n",
       "      <td>train</td>\n",
       "    </tr>\n",
       "    <tr>\n",
       "      <th>3</th>\n",
       "      <td>924</td>\n",
       "      <td>646</td>\n",
       "      <td>683</td>\n",
       "      <td>1292</td>\n",
       "      <td>1297</td>\n",
       "      <td>35.0</td>\n",
       "      <td>6</td>\n",
       "      <td>99999</td>\n",
       "      <td>34895.0</td>\n",
       "      <td>CA</td>\n",
       "      <td>Supermarket Type3</td>\n",
       "      <td>0.0</td>\n",
       "      <td>train</td>\n",
       "    </tr>\n",
       "    <tr>\n",
       "      <th>4</th>\n",
       "      <td>1017</td>\n",
       "      <td>730</td>\n",
       "      <td>735</td>\n",
       "      <td>1208</td>\n",
       "      <td>1326</td>\n",
       "      <td>27.0</td>\n",
       "      <td>50</td>\n",
       "      <td>60100</td>\n",
       "      <td>1139.0</td>\n",
       "      <td>VT</td>\n",
       "      <td>Supermarket Type1</td>\n",
       "      <td>0.0</td>\n",
       "      <td>train</td>\n",
       "    </tr>\n",
       "  </tbody>\n",
       "</table>\n",
       "</div>"
      ],
      "text/plain": [
       "   sales0  sales1  sales2  sales3  sales4  country  State  CouSub  population  \\\n",
       "0     848     588     666    1116    1133      9.0     23   19770       423.0   \n",
       "1     925     717     780    1283    1550      1.0     50   29575       298.0   \n",
       "2     924     616     739    1154    1314     13.0     25    8470      3609.0   \n",
       "3     924     646     683    1292    1297     35.0      6   99999     34895.0   \n",
       "4    1017     730     735    1208    1326     27.0     50   60100      1139.0   \n",
       "\n",
       "  state_alpha         store_Type  store   data  \n",
       "0          ME  Supermarket Type1    0.0  train  \n",
       "1          VT  Supermarket Type1    0.0  train  \n",
       "2          MA  Supermarket Type1    1.0  train  \n",
       "3          CA  Supermarket Type3    0.0  train  \n",
       "4          VT  Supermarket Type1    0.0  train  "
      ]
     },
     "execution_count": 61,
     "metadata": {},
     "output_type": "execute_result"
    }
   ],
   "source": [
    "store.head()"
   ]
  },
  {
   "cell_type": "code",
   "execution_count": 62,
   "id": "63cad0dc",
   "metadata": {},
   "outputs": [],
   "source": [
    "cat_cols = ['state_alpha','store_Type']"
   ]
  },
  {
   "cell_type": "code",
   "execution_count": 63,
   "id": "7b75cb4c",
   "metadata": {},
   "outputs": [],
   "source": [
    "for col in cat_cols:\n",
    "    k = store[col].value_counts(dropna = False)\n",
    "    cats = k.index[k>120][:-1]\n",
    "    for cat in cats:\n",
    "        name = col+'_'+cat\n",
    "        store[name] = (store[col] == cat).astype(int)"
   ]
  },
  {
   "cell_type": "code",
   "execution_count": 64,
   "id": "51ac2c4c",
   "metadata": {},
   "outputs": [],
   "source": [
    "store.drop(['store_Type','state_alpha'],axis = 1, inplace = True)"
   ]
  },
  {
   "cell_type": "code",
   "execution_count": 65,
   "id": "986761b3",
   "metadata": {},
   "outputs": [
    {
     "data": {
      "text/plain": [
       "23    535\n",
       "25    351\n",
       "33    259\n",
       "50    255\n",
       "48    254\n",
       "9     169\n",
       "13    159\n",
       "51    135\n",
       "21    120\n",
       "29    116\n",
       "20    105\n",
       "17    102\n",
       "37    100\n",
       "19     99\n",
       "47     95\n",
       "31     93\n",
       "18     92\n",
       "39     88\n",
       "27     87\n",
       "26     83\n",
       "28     82\n",
       "72     78\n",
       "40     77\n",
       "5      75\n",
       "55     72\n",
       "1      67\n",
       "12     67\n",
       "42     67\n",
       "46     66\n",
       "8      64\n",
       "22     64\n",
       "36     62\n",
       "6      58\n",
       "30     56\n",
       "54     55\n",
       "38     53\n",
       "45     46\n",
       "16     44\n",
       "53     39\n",
       "44     39\n",
       "41     36\n",
       "35     33\n",
       "2      29\n",
       "49     29\n",
       "24     25\n",
       "56     23\n",
       "34     21\n",
       "32     17\n",
       "4      15\n",
       "15      5\n",
       "10      3\n",
       "78      3\n",
       "66      1\n",
       "11      1\n",
       "Name: State, dtype: int64"
      ]
     },
     "execution_count": 65,
     "metadata": {},
     "output_type": "execute_result"
    }
   ],
   "source": [
    "store['State'].value_counts(dropna = False)"
   ]
  },
  {
   "cell_type": "code",
   "execution_count": 66,
   "id": "7e948193",
   "metadata": {},
   "outputs": [],
   "source": [
    "store['State'] = store['State'].astype(object)"
   ]
  },
  {
   "cell_type": "code",
   "execution_count": 67,
   "id": "5daa9647",
   "metadata": {},
   "outputs": [
    {
     "data": {
      "text/plain": [
       "3.0      219\n",
       "9.0      213\n",
       "7.0      168\n",
       "17.0     165\n",
       "11.0     165\n",
       "        ... \n",
       "473.0      1\n",
       "830.0      1\n",
       "198.0      1\n",
       "520.0      1\n",
       "54.0       1\n",
       "Name: country, Length: 330, dtype: int64"
      ]
     },
     "execution_count": 67,
     "metadata": {},
     "output_type": "execute_result"
    }
   ],
   "source": [
    "store['country'].value_counts(dropna = False)"
   ]
  },
  {
   "cell_type": "code",
   "execution_count": 68,
   "id": "e0056763",
   "metadata": {},
   "outputs": [],
   "source": [
    "store['country'] = store['country'].astype(object)"
   ]
  },
  {
   "cell_type": "code",
   "execution_count": 69,
   "id": "f4342751",
   "metadata": {},
   "outputs": [],
   "source": [
    "cat_cols = ['State','country']"
   ]
  },
  {
   "cell_type": "code",
   "execution_count": 70,
   "id": "e253e614",
   "metadata": {},
   "outputs": [],
   "source": [
    "for col in cat_cols:\n",
    "    k = store[col].value_counts(dropna = False)\n",
    "    cats = k.index[k>120][:-1]\n",
    "    for cat in cats:\n",
    "        name = col+'_'+str(cat)\n",
    "        store[name] = (store[col] == cat).astype(int)"
   ]
  },
  {
   "cell_type": "code",
   "execution_count": 71,
   "id": "c4b2e675",
   "metadata": {},
   "outputs": [],
   "source": [
    "store.drop(['State','country'],axis = 1,inplace = True)"
   ]
  },
  {
   "cell_type": "code",
   "execution_count": 72,
   "id": "36a68e3d",
   "metadata": {},
   "outputs": [
    {
     "data": {
      "text/html": [
       "<div>\n",
       "<style scoped>\n",
       "    .dataframe tbody tr th:only-of-type {\n",
       "        vertical-align: middle;\n",
       "    }\n",
       "\n",
       "    .dataframe tbody tr th {\n",
       "        vertical-align: top;\n",
       "    }\n",
       "\n",
       "    .dataframe thead th {\n",
       "        text-align: right;\n",
       "    }\n",
       "</style>\n",
       "<table border=\"1\" class=\"dataframe\">\n",
       "  <thead>\n",
       "    <tr style=\"text-align: right;\">\n",
       "      <th></th>\n",
       "      <th>sales0</th>\n",
       "      <th>sales1</th>\n",
       "      <th>sales2</th>\n",
       "      <th>sales3</th>\n",
       "      <th>sales4</th>\n",
       "      <th>CouSub</th>\n",
       "      <th>population</th>\n",
       "      <th>store</th>\n",
       "      <th>data</th>\n",
       "      <th>state_alpha_ME</th>\n",
       "      <th>...</th>\n",
       "      <th>country_9.0</th>\n",
       "      <th>country_7.0</th>\n",
       "      <th>country_17.0</th>\n",
       "      <th>country_11.0</th>\n",
       "      <th>country_5.0</th>\n",
       "      <th>country_27.0</th>\n",
       "      <th>country_15.0</th>\n",
       "      <th>country_19.0</th>\n",
       "      <th>country_1.0</th>\n",
       "      <th>country_13.0</th>\n",
       "    </tr>\n",
       "  </thead>\n",
       "  <tbody>\n",
       "    <tr>\n",
       "      <th>0</th>\n",
       "      <td>848</td>\n",
       "      <td>588</td>\n",
       "      <td>666</td>\n",
       "      <td>1116</td>\n",
       "      <td>1133</td>\n",
       "      <td>19770</td>\n",
       "      <td>423.0</td>\n",
       "      <td>0.0</td>\n",
       "      <td>train</td>\n",
       "      <td>1</td>\n",
       "      <td>...</td>\n",
       "      <td>1</td>\n",
       "      <td>0</td>\n",
       "      <td>0</td>\n",
       "      <td>0</td>\n",
       "      <td>0</td>\n",
       "      <td>0</td>\n",
       "      <td>0</td>\n",
       "      <td>0</td>\n",
       "      <td>0</td>\n",
       "      <td>0</td>\n",
       "    </tr>\n",
       "    <tr>\n",
       "      <th>1</th>\n",
       "      <td>925</td>\n",
       "      <td>717</td>\n",
       "      <td>780</td>\n",
       "      <td>1283</td>\n",
       "      <td>1550</td>\n",
       "      <td>29575</td>\n",
       "      <td>298.0</td>\n",
       "      <td>0.0</td>\n",
       "      <td>train</td>\n",
       "      <td>0</td>\n",
       "      <td>...</td>\n",
       "      <td>0</td>\n",
       "      <td>0</td>\n",
       "      <td>0</td>\n",
       "      <td>0</td>\n",
       "      <td>0</td>\n",
       "      <td>0</td>\n",
       "      <td>0</td>\n",
       "      <td>0</td>\n",
       "      <td>1</td>\n",
       "      <td>0</td>\n",
       "    </tr>\n",
       "    <tr>\n",
       "      <th>2</th>\n",
       "      <td>924</td>\n",
       "      <td>616</td>\n",
       "      <td>739</td>\n",
       "      <td>1154</td>\n",
       "      <td>1314</td>\n",
       "      <td>8470</td>\n",
       "      <td>3609.0</td>\n",
       "      <td>1.0</td>\n",
       "      <td>train</td>\n",
       "      <td>0</td>\n",
       "      <td>...</td>\n",
       "      <td>0</td>\n",
       "      <td>0</td>\n",
       "      <td>0</td>\n",
       "      <td>0</td>\n",
       "      <td>0</td>\n",
       "      <td>0</td>\n",
       "      <td>0</td>\n",
       "      <td>0</td>\n",
       "      <td>0</td>\n",
       "      <td>1</td>\n",
       "    </tr>\n",
       "    <tr>\n",
       "      <th>3</th>\n",
       "      <td>924</td>\n",
       "      <td>646</td>\n",
       "      <td>683</td>\n",
       "      <td>1292</td>\n",
       "      <td>1297</td>\n",
       "      <td>99999</td>\n",
       "      <td>34895.0</td>\n",
       "      <td>0.0</td>\n",
       "      <td>train</td>\n",
       "      <td>0</td>\n",
       "      <td>...</td>\n",
       "      <td>0</td>\n",
       "      <td>0</td>\n",
       "      <td>0</td>\n",
       "      <td>0</td>\n",
       "      <td>0</td>\n",
       "      <td>0</td>\n",
       "      <td>0</td>\n",
       "      <td>0</td>\n",
       "      <td>0</td>\n",
       "      <td>0</td>\n",
       "    </tr>\n",
       "    <tr>\n",
       "      <th>4</th>\n",
       "      <td>1017</td>\n",
       "      <td>730</td>\n",
       "      <td>735</td>\n",
       "      <td>1208</td>\n",
       "      <td>1326</td>\n",
       "      <td>60100</td>\n",
       "      <td>1139.0</td>\n",
       "      <td>0.0</td>\n",
       "      <td>train</td>\n",
       "      <td>0</td>\n",
       "      <td>...</td>\n",
       "      <td>0</td>\n",
       "      <td>0</td>\n",
       "      <td>0</td>\n",
       "      <td>0</td>\n",
       "      <td>0</td>\n",
       "      <td>1</td>\n",
       "      <td>0</td>\n",
       "      <td>0</td>\n",
       "      <td>0</td>\n",
       "      <td>0</td>\n",
       "    </tr>\n",
       "  </tbody>\n",
       "</table>\n",
       "<p>5 rows × 37 columns</p>\n",
       "</div>"
      ],
      "text/plain": [
       "   sales0  sales1  sales2  sales3  sales4  CouSub  population  store   data  \\\n",
       "0     848     588     666    1116    1133   19770       423.0    0.0  train   \n",
       "1     925     717     780    1283    1550   29575       298.0    0.0  train   \n",
       "2     924     616     739    1154    1314    8470      3609.0    1.0  train   \n",
       "3     924     646     683    1292    1297   99999     34895.0    0.0  train   \n",
       "4    1017     730     735    1208    1326   60100      1139.0    0.0  train   \n",
       "\n",
       "   state_alpha_ME  ...  country_9.0  country_7.0  country_17.0  country_11.0  \\\n",
       "0               1  ...            1            0             0             0   \n",
       "1               0  ...            0            0             0             0   \n",
       "2               0  ...            0            0             0             0   \n",
       "3               0  ...            0            0             0             0   \n",
       "4               0  ...            0            0             0             0   \n",
       "\n",
       "   country_5.0  country_27.0  country_15.0  country_19.0  country_1.0  \\\n",
       "0            0             0             0             0            0   \n",
       "1            0             0             0             0            1   \n",
       "2            0             0             0             0            0   \n",
       "3            0             0             0             0            0   \n",
       "4            0             1             0             0            0   \n",
       "\n",
       "   country_13.0  \n",
       "0             0  \n",
       "1             0  \n",
       "2             1  \n",
       "3             0  \n",
       "4             0  \n",
       "\n",
       "[5 rows x 37 columns]"
      ]
     },
     "execution_count": 72,
     "metadata": {},
     "output_type": "execute_result"
    }
   ],
   "source": [
    "store.head()"
   ]
  },
  {
   "cell_type": "code",
   "execution_count": 73,
   "id": "484e69c3",
   "metadata": {},
   "outputs": [
    {
     "data": {
      "text/html": [
       "<div>\n",
       "<style scoped>\n",
       "    .dataframe tbody tr th:only-of-type {\n",
       "        vertical-align: middle;\n",
       "    }\n",
       "\n",
       "    .dataframe tbody tr th {\n",
       "        vertical-align: top;\n",
       "    }\n",
       "\n",
       "    .dataframe thead th {\n",
       "        text-align: right;\n",
       "    }\n",
       "</style>\n",
       "<table border=\"1\" class=\"dataframe\">\n",
       "  <thead>\n",
       "    <tr style=\"text-align: right;\">\n",
       "      <th></th>\n",
       "      <th>data</th>\n",
       "    </tr>\n",
       "  </thead>\n",
       "  <tbody>\n",
       "    <tr>\n",
       "      <th>0</th>\n",
       "      <td>train</td>\n",
       "    </tr>\n",
       "    <tr>\n",
       "      <th>1</th>\n",
       "      <td>train</td>\n",
       "    </tr>\n",
       "    <tr>\n",
       "      <th>2</th>\n",
       "      <td>train</td>\n",
       "    </tr>\n",
       "    <tr>\n",
       "      <th>3</th>\n",
       "      <td>train</td>\n",
       "    </tr>\n",
       "    <tr>\n",
       "      <th>4</th>\n",
       "      <td>train</td>\n",
       "    </tr>\n",
       "    <tr>\n",
       "      <th>...</th>\n",
       "      <td>...</td>\n",
       "    </tr>\n",
       "    <tr>\n",
       "      <th>1426</th>\n",
       "      <td>test</td>\n",
       "    </tr>\n",
       "    <tr>\n",
       "      <th>1427</th>\n",
       "      <td>test</td>\n",
       "    </tr>\n",
       "    <tr>\n",
       "      <th>1428</th>\n",
       "      <td>test</td>\n",
       "    </tr>\n",
       "    <tr>\n",
       "      <th>1429</th>\n",
       "      <td>test</td>\n",
       "    </tr>\n",
       "    <tr>\n",
       "      <th>1430</th>\n",
       "      <td>test</td>\n",
       "    </tr>\n",
       "  </tbody>\n",
       "</table>\n",
       "<p>4769 rows × 1 columns</p>\n",
       "</div>"
      ],
      "text/plain": [
       "       data\n",
       "0     train\n",
       "1     train\n",
       "2     train\n",
       "3     train\n",
       "4     train\n",
       "...     ...\n",
       "1426   test\n",
       "1427   test\n",
       "1428   test\n",
       "1429   test\n",
       "1430   test\n",
       "\n",
       "[4769 rows x 1 columns]"
      ]
     },
     "execution_count": 73,
     "metadata": {},
     "output_type": "execute_result"
    }
   ],
   "source": [
    "store.select_dtypes(object)"
   ]
  },
  {
   "cell_type": "code",
   "execution_count": 74,
   "id": "0c5eeef3",
   "metadata": {},
   "outputs": [
    {
     "data": {
      "text/plain": [
       "sales0                             0\n",
       "sales1                             0\n",
       "sales2                             0\n",
       "sales3                             0\n",
       "sales4                             0\n",
       "CouSub                             0\n",
       "population                         2\n",
       "store                           1431\n",
       "data                               0\n",
       "state_alpha_ME                     0\n",
       "state_alpha_MA                     0\n",
       "state_alpha_NH                     0\n",
       "state_alpha_VT                     0\n",
       "state_alpha_TX                     0\n",
       "state_alpha_CT                     0\n",
       "state_alpha_GA                     0\n",
       "store_Type_Supermarket Type1       0\n",
       "store_Type_Grocery Store           0\n",
       "store_Type_Supermarket Type3       0\n",
       "State_23                           0\n",
       "State_25                           0\n",
       "State_33                           0\n",
       "State_50                           0\n",
       "State_48                           0\n",
       "State_9                            0\n",
       "State_13                           0\n",
       "country_3.0                        0\n",
       "country_9.0                        0\n",
       "country_7.0                        0\n",
       "country_17.0                       0\n",
       "country_11.0                       0\n",
       "country_5.0                        0\n",
       "country_27.0                       0\n",
       "country_15.0                       0\n",
       "country_19.0                       0\n",
       "country_1.0                        0\n",
       "country_13.0                       0\n",
       "dtype: int64"
      ]
     },
     "execution_count": 74,
     "metadata": {},
     "output_type": "execute_result"
    }
   ],
   "source": [
    "store.isnull().sum()"
   ]
  },
  {
   "cell_type": "code",
   "execution_count": 75,
   "id": "7fd7e374",
   "metadata": {},
   "outputs": [],
   "source": [
    "store_train = store[store['data'] == 'train']"
   ]
  },
  {
   "cell_type": "code",
   "execution_count": 76,
   "id": "b6cc93ee",
   "metadata": {},
   "outputs": [],
   "source": [
    "store_test = store[store['data'] == 'test']"
   ]
  },
  {
   "cell_type": "code",
   "execution_count": 77,
   "id": "791f3003",
   "metadata": {},
   "outputs": [
    {
     "name": "stderr",
     "output_type": "stream",
     "text": [
      "C:\\Users\\h8man\\anaconda3\\lib\\site-packages\\pandas\\core\\frame.py:4308: SettingWithCopyWarning: \n",
      "A value is trying to be set on a copy of a slice from a DataFrame\n",
      "\n",
      "See the caveats in the documentation: https://pandas.pydata.org/pandas-docs/stable/user_guide/indexing.html#returning-a-view-versus-a-copy\n",
      "  return super().drop(\n"
     ]
    }
   ],
   "source": [
    "del store_train['data']\n",
    "store_test.drop(['data','store'],axis = 1, inplace = True)"
   ]
  },
  {
   "cell_type": "code",
   "execution_count": 78,
   "id": "f23affa4",
   "metadata": {},
   "outputs": [],
   "source": [
    " from sklearn.linear_model import LogisticRegression"
   ]
  },
  {
   "cell_type": "code",
   "execution_count": 97,
   "id": "eb31d08f",
   "metadata": {},
   "outputs": [],
   "source": [
    "params = {'class_weight' : ['balanced',None],\n",
    "         'C' : np.linspace(0.0001,1000,10)}"
   ]
  },
  {
   "cell_type": "code",
   "execution_count": 98,
   "id": "594a6df5",
   "metadata": {},
   "outputs": [],
   "source": [
    "model = LogisticRegression(fit_intercept = True)"
   ]
  },
  {
   "cell_type": "code",
   "execution_count": 99,
   "id": "0a9e1920",
   "metadata": {},
   "outputs": [],
   "source": [
    "from sklearn.model_selection  import GridSearchCV"
   ]
  },
  {
   "cell_type": "code",
   "execution_count": 100,
   "id": "f46c1f37",
   "metadata": {},
   "outputs": [],
   "source": [
    "grid_search = GridSearchCV(model, param_grid = params, cv = 10, scoring = 'roc_auc',n_jobs = -1)"
   ]
  },
  {
   "cell_type": "code",
   "execution_count": 101,
   "id": "3e80d3ad",
   "metadata": {},
   "outputs": [],
   "source": [
    "x_train = store_train.drop(['store'],axis =1)\n",
    "y_train = store_train['store']"
   ]
  },
  {
   "cell_type": "code",
   "execution_count": 102,
   "id": "580f29bd",
   "metadata": {},
   "outputs": [
    {
     "name": "stderr",
     "output_type": "stream",
     "text": [
      "C:\\Users\\h8man\\anaconda3\\lib\\site-packages\\sklearn\\linear_model\\_logistic.py:763: ConvergenceWarning: lbfgs failed to converge (status=1):\n",
      "STOP: TOTAL NO. of ITERATIONS REACHED LIMIT.\n",
      "\n",
      "Increase the number of iterations (max_iter) or scale the data as shown in:\n",
      "    https://scikit-learn.org/stable/modules/preprocessing.html\n",
      "Please also refer to the documentation for alternative solver options:\n",
      "    https://scikit-learn.org/stable/modules/linear_model.html#logistic-regression\n",
      "  n_iter_i = _check_optimize_result(\n"
     ]
    },
    {
     "data": {
      "text/plain": [
       "GridSearchCV(cv=10, estimator=LogisticRegression(), n_jobs=-1,\n",
       "             param_grid={'C': array([1.000000e-04, 1.111112e+02, 2.222223e+02, 3.333334e+02,\n",
       "       4.444445e+02, 5.555556e+02, 6.666667e+02, 7.777778e+02,\n",
       "       8.888889e+02, 1.000000e+03]),\n",
       "                         'class_weight': ['balanced', None]},\n",
       "             scoring='roc_auc')"
      ]
     },
     "execution_count": 102,
     "metadata": {},
     "output_type": "execute_result"
    }
   ],
   "source": [
    "grid_search.fit(x_train,y_train)"
   ]
  },
  {
   "cell_type": "code",
   "execution_count": 103,
   "id": "ba816e9e",
   "metadata": {},
   "outputs": [],
   "source": [
    "test_prediction = grid_search.predict_proba(store_test)"
   ]
  },
  {
   "cell_type": "code",
   "execution_count": 104,
   "id": "faa9fbf2",
   "metadata": {},
   "outputs": [
    {
     "data": {
      "text/plain": [
       "array([[0.64523525, 0.35476475],\n",
       "       [0.66189763, 0.33810237],\n",
       "       [0.58275767, 0.41724233],\n",
       "       ...,\n",
       "       [0.49086227, 0.50913773],\n",
       "       [0.63401766, 0.36598234],\n",
       "       [0.55353111, 0.44646889]])"
      ]
     },
     "execution_count": 104,
     "metadata": {},
     "output_type": "execute_result"
    }
   ],
   "source": [
    "test_prediction"
   ]
  },
  {
   "cell_type": "code",
   "execution_count": 105,
   "id": "369c61a0",
   "metadata": {},
   "outputs": [
    {
     "name": "stderr",
     "output_type": "stream",
     "text": [
      "<ipython-input-105-4d83c8cab7db>:1: SettingWithCopyWarning: \n",
      "A value is trying to be set on a copy of a slice from a DataFrame.\n",
      "Try using .loc[row_indexer,col_indexer] = value instead\n",
      "\n",
      "See the caveats in the documentation: https://pandas.pydata.org/pandas-docs/stable/user_guide/indexing.html#returning-a-view-versus-a-copy\n",
      "  store_train['population'] = store_train['population'].fillna(15911)\n"
     ]
    }
   ],
   "source": [
    "store_train['population'] = store_train['population'].fillna(15911)"
   ]
  },
  {
   "cell_type": "code",
   "execution_count": 87,
   "id": "587d48be",
   "metadata": {},
   "outputs": [
    {
     "data": {
      "text/plain": [
       "sales0                          0\n",
       "sales1                          0\n",
       "sales2                          0\n",
       "sales3                          0\n",
       "sales4                          0\n",
       "CouSub                          0\n",
       "population                      0\n",
       "state_alpha_ME                  0\n",
       "state_alpha_MA                  0\n",
       "state_alpha_NH                  0\n",
       "state_alpha_VT                  0\n",
       "state_alpha_TX                  0\n",
       "state_alpha_CT                  0\n",
       "state_alpha_GA                  0\n",
       "store_Type_Supermarket Type1    0\n",
       "store_Type_Grocery Store        0\n",
       "store_Type_Supermarket Type3    0\n",
       "State_23                        0\n",
       "State_25                        0\n",
       "State_33                        0\n",
       "State_50                        0\n",
       "State_48                        0\n",
       "State_9                         0\n",
       "State_13                        0\n",
       "country_3.0                     0\n",
       "country_9.0                     0\n",
       "country_7.0                     0\n",
       "country_17.0                    0\n",
       "country_11.0                    0\n",
       "country_5.0                     0\n",
       "country_27.0                    0\n",
       "country_15.0                    0\n",
       "country_19.0                    0\n",
       "country_1.0                     0\n",
       "country_13.0                    0\n",
       "dtype: int64"
      ]
     },
     "execution_count": 87,
     "metadata": {},
     "output_type": "execute_result"
    }
   ],
   "source": [
    "store_test.isnull().sum()"
   ]
  },
  {
   "cell_type": "code",
   "execution_count": 86,
   "id": "0f3a4328",
   "metadata": {},
   "outputs": [
    {
     "name": "stderr",
     "output_type": "stream",
     "text": [
      "<ipython-input-86-a6403c6780c7>:1: SettingWithCopyWarning: \n",
      "A value is trying to be set on a copy of a slice from a DataFrame.\n",
      "Try using .loc[row_indexer,col_indexer] = value instead\n",
      "\n",
      "See the caveats in the documentation: https://pandas.pydata.org/pandas-docs/stable/user_guide/indexing.html#returning-a-view-versus-a-copy\n",
      "  store_test['population'] = store_test['population'].fillna(13683)\n"
     ]
    }
   ],
   "source": [
    "store_test['population'] = store_test['population'].fillna(13683)"
   ]
  },
  {
   "cell_type": "code",
   "execution_count": 96,
   "id": "c8ccf628",
   "metadata": {},
   "outputs": [
    {
     "data": {
      "text/plain": [
       "0"
      ]
     },
     "execution_count": 96,
     "metadata": {},
     "output_type": "execute_result"
    }
   ],
   "source": [
    "x_train['population'].isnull().sum()"
   ]
  },
  {
   "cell_type": "code",
   "execution_count": 94,
   "id": "b934a295",
   "metadata": {},
   "outputs": [
    {
     "data": {
      "text/html": [
       "<div>\n",
       "<style scoped>\n",
       "    .dataframe tbody tr th:only-of-type {\n",
       "        vertical-align: middle;\n",
       "    }\n",
       "\n",
       "    .dataframe tbody tr th {\n",
       "        vertical-align: top;\n",
       "    }\n",
       "\n",
       "    .dataframe thead th {\n",
       "        text-align: right;\n",
       "    }\n",
       "</style>\n",
       "<table border=\"1\" class=\"dataframe\">\n",
       "  <thead>\n",
       "    <tr style=\"text-align: right;\">\n",
       "      <th></th>\n",
       "      <th>sales0</th>\n",
       "      <th>sales1</th>\n",
       "      <th>sales2</th>\n",
       "      <th>sales3</th>\n",
       "      <th>sales4</th>\n",
       "      <th>CouSub</th>\n",
       "      <th>population</th>\n",
       "      <th>state_alpha_ME</th>\n",
       "      <th>state_alpha_MA</th>\n",
       "      <th>state_alpha_NH</th>\n",
       "      <th>...</th>\n",
       "      <th>country_9.0</th>\n",
       "      <th>country_7.0</th>\n",
       "      <th>country_17.0</th>\n",
       "      <th>country_11.0</th>\n",
       "      <th>country_5.0</th>\n",
       "      <th>country_27.0</th>\n",
       "      <th>country_15.0</th>\n",
       "      <th>country_19.0</th>\n",
       "      <th>country_1.0</th>\n",
       "      <th>country_13.0</th>\n",
       "    </tr>\n",
       "  </thead>\n",
       "  <tbody>\n",
       "    <tr>\n",
       "      <th>0</th>\n",
       "      <td>848</td>\n",
       "      <td>588</td>\n",
       "      <td>666</td>\n",
       "      <td>1116</td>\n",
       "      <td>1133</td>\n",
       "      <td>19770</td>\n",
       "      <td>423.0</td>\n",
       "      <td>1</td>\n",
       "      <td>0</td>\n",
       "      <td>0</td>\n",
       "      <td>...</td>\n",
       "      <td>1</td>\n",
       "      <td>0</td>\n",
       "      <td>0</td>\n",
       "      <td>0</td>\n",
       "      <td>0</td>\n",
       "      <td>0</td>\n",
       "      <td>0</td>\n",
       "      <td>0</td>\n",
       "      <td>0</td>\n",
       "      <td>0</td>\n",
       "    </tr>\n",
       "    <tr>\n",
       "      <th>1</th>\n",
       "      <td>925</td>\n",
       "      <td>717</td>\n",
       "      <td>780</td>\n",
       "      <td>1283</td>\n",
       "      <td>1550</td>\n",
       "      <td>29575</td>\n",
       "      <td>298.0</td>\n",
       "      <td>0</td>\n",
       "      <td>0</td>\n",
       "      <td>0</td>\n",
       "      <td>...</td>\n",
       "      <td>0</td>\n",
       "      <td>0</td>\n",
       "      <td>0</td>\n",
       "      <td>0</td>\n",
       "      <td>0</td>\n",
       "      <td>0</td>\n",
       "      <td>0</td>\n",
       "      <td>0</td>\n",
       "      <td>1</td>\n",
       "      <td>0</td>\n",
       "    </tr>\n",
       "    <tr>\n",
       "      <th>2</th>\n",
       "      <td>924</td>\n",
       "      <td>616</td>\n",
       "      <td>739</td>\n",
       "      <td>1154</td>\n",
       "      <td>1314</td>\n",
       "      <td>8470</td>\n",
       "      <td>3609.0</td>\n",
       "      <td>0</td>\n",
       "      <td>1</td>\n",
       "      <td>0</td>\n",
       "      <td>...</td>\n",
       "      <td>0</td>\n",
       "      <td>0</td>\n",
       "      <td>0</td>\n",
       "      <td>0</td>\n",
       "      <td>0</td>\n",
       "      <td>0</td>\n",
       "      <td>0</td>\n",
       "      <td>0</td>\n",
       "      <td>0</td>\n",
       "      <td>1</td>\n",
       "    </tr>\n",
       "    <tr>\n",
       "      <th>3</th>\n",
       "      <td>924</td>\n",
       "      <td>646</td>\n",
       "      <td>683</td>\n",
       "      <td>1292</td>\n",
       "      <td>1297</td>\n",
       "      <td>99999</td>\n",
       "      <td>34895.0</td>\n",
       "      <td>0</td>\n",
       "      <td>0</td>\n",
       "      <td>0</td>\n",
       "      <td>...</td>\n",
       "      <td>0</td>\n",
       "      <td>0</td>\n",
       "      <td>0</td>\n",
       "      <td>0</td>\n",
       "      <td>0</td>\n",
       "      <td>0</td>\n",
       "      <td>0</td>\n",
       "      <td>0</td>\n",
       "      <td>0</td>\n",
       "      <td>0</td>\n",
       "    </tr>\n",
       "    <tr>\n",
       "      <th>4</th>\n",
       "      <td>1017</td>\n",
       "      <td>730</td>\n",
       "      <td>735</td>\n",
       "      <td>1208</td>\n",
       "      <td>1326</td>\n",
       "      <td>60100</td>\n",
       "      <td>1139.0</td>\n",
       "      <td>0</td>\n",
       "      <td>0</td>\n",
       "      <td>0</td>\n",
       "      <td>...</td>\n",
       "      <td>0</td>\n",
       "      <td>0</td>\n",
       "      <td>0</td>\n",
       "      <td>0</td>\n",
       "      <td>0</td>\n",
       "      <td>1</td>\n",
       "      <td>0</td>\n",
       "      <td>0</td>\n",
       "      <td>0</td>\n",
       "      <td>0</td>\n",
       "    </tr>\n",
       "  </tbody>\n",
       "</table>\n",
       "<p>5 rows × 35 columns</p>\n",
       "</div>"
      ],
      "text/plain": [
       "   sales0  sales1  sales2  sales3  sales4  CouSub  population  state_alpha_ME  \\\n",
       "0     848     588     666    1116    1133   19770       423.0               1   \n",
       "1     925     717     780    1283    1550   29575       298.0               0   \n",
       "2     924     616     739    1154    1314    8470      3609.0               0   \n",
       "3     924     646     683    1292    1297   99999     34895.0               0   \n",
       "4    1017     730     735    1208    1326   60100      1139.0               0   \n",
       "\n",
       "   state_alpha_MA  state_alpha_NH  ...  country_9.0  country_7.0  \\\n",
       "0               0               0  ...            1            0   \n",
       "1               0               0  ...            0            0   \n",
       "2               1               0  ...            0            0   \n",
       "3               0               0  ...            0            0   \n",
       "4               0               0  ...            0            0   \n",
       "\n",
       "   country_17.0  country_11.0  country_5.0  country_27.0  country_15.0  \\\n",
       "0             0             0            0             0             0   \n",
       "1             0             0            0             0             0   \n",
       "2             0             0            0             0             0   \n",
       "3             0             0            0             0             0   \n",
       "4             0             0            0             1             0   \n",
       "\n",
       "   country_19.0  country_1.0  country_13.0  \n",
       "0             0            0             0  \n",
       "1             0            1             0  \n",
       "2             0            0             1  \n",
       "3             0            0             0  \n",
       "4             0            0             0  \n",
       "\n",
       "[5 rows x 35 columns]"
      ]
     },
     "execution_count": 94,
     "metadata": {},
     "output_type": "execute_result"
    }
   ],
   "source": [
    "x_train.head()"
   ]
  },
  {
   "cell_type": "code",
   "execution_count": 95,
   "id": "cd86e3d7",
   "metadata": {},
   "outputs": [
    {
     "data": {
      "text/plain": [
       "0.0         19\n",
       "546.0        3\n",
       "1232.0       3\n",
       "1607.0       3\n",
       "1891.0       3\n",
       "            ..\n",
       "65203.0      1\n",
       "85603.0      1\n",
       "41513.0      1\n",
       "930450.0     1\n",
       "23055.0      1\n",
       "Name: population, Length: 3178, dtype: int64"
      ]
     },
     "execution_count": 95,
     "metadata": {},
     "output_type": "execute_result"
    }
   ],
   "source": [
    "x_train['population'].value_counts(dropna = False)"
   ]
  },
  {
   "cell_type": "code",
   "execution_count": 108,
   "id": "e3ce4fbc",
   "metadata": {},
   "outputs": [],
   "source": [
    "final_predicted = test_prediction[:,1]"
   ]
  },
  {
   "cell_type": "code",
   "execution_count": 109,
   "id": "7de6c567",
   "metadata": {},
   "outputs": [
    {
     "data": {
      "text/plain": [
       "array([0., 1.])"
      ]
     },
     "execution_count": 109,
     "metadata": {},
     "output_type": "execute_result"
    }
   ],
   "source": [
    "grid_search.classes_"
   ]
  },
  {
   "cell_type": "code",
   "execution_count": 111,
   "id": "6dde162d",
   "metadata": {},
   "outputs": [],
   "source": [
    "train_score = grid_search.predict_proba(x_train)[:,1]\n",
    "real = y_train"
   ]
  },
  {
   "cell_type": "code",
   "execution_count": 112,
   "id": "a34f9c51",
   "metadata": {},
   "outputs": [],
   "source": [
    "cutoffs = np.linspace(0.001,.999,999)"
   ]
  },
  {
   "cell_type": "code",
   "execution_count": 113,
   "id": "ffce6e83",
   "metadata": {},
   "outputs": [],
   "source": [
    "KS = []"
   ]
  },
  {
   "cell_type": "code",
   "execution_count": 118,
   "id": "23946e8f",
   "metadata": {},
   "outputs": [],
   "source": [
    "for cutoff in cutoffs:\n",
    "    predicted = (train_score>cutoff).astype(int)\n",
    "    TP = ((real == 1) & (predicted == 1)).sum()\n",
    "    TN = ((real == 0) & (predicted == 0)).sum()\n",
    "    FP = ((real == 0)& (predicted == 1)).sum()\n",
    "    FN = ((real == 1) & (predicted == 0)).sum()\n",
    "    \n",
    "    u = TP/ (TP + FN)\n",
    "    v = FP/ (FP + TN)\n",
    "    ks = u - v\n",
    "    KS.append(ks)"
   ]
  },
  {
   "cell_type": "code",
   "execution_count": 119,
   "id": "976e8515",
   "metadata": {},
   "outputs": [
    {
     "data": {
      "text/plain": [
       "<seaborn.axisgrid.FacetGrid at 0x20ebb441eb0>"
      ]
     },
     "execution_count": 119,
     "metadata": {},
     "output_type": "execute_result"
    },
    {
     "data": {
      "image/png": "[encoded data removed]",
      "text/plain": [
       "<Figure size 360x360 with 1 Axes>"
      ]
     },
     "metadata": {
      "needs_background": "light"
     },
     "output_type": "display_data"
    }
   ],
   "source": [
    "temp=pd.DataFrame({'cutoffs':cutoffs,'KS':KS})\n",
    "sns.lmplot(x='cutoffs',y='KS',data=temp,fit_reg=False)"
   ]
  },
  {
   "cell_type": "code",
   "execution_count": 120,
   "id": "05eb511b",
   "metadata": {},
   "outputs": [
    {
     "data": {
      "text/plain": [
       "0.503"
      ]
     },
     "execution_count": 120,
     "metadata": {},
     "output_type": "execute_result"
    }
   ],
   "source": [
    "cutoffs[KS == max(KS)][0]"
   ]
  },
  {
   "cell_type": "code",
   "execution_count": 129,
   "id": "226cfa1b",
   "metadata": {},
   "outputs": [],
   "source": [
    "test_hard_classes_1 = (test_prediction>cutoffs[KS == max(KS)][0]).astype(int)"
   ]
  },
  {
   "cell_type": "code",
   "execution_count": 124,
   "id": "97d39f70",
   "metadata": {},
   "outputs": [],
   "source": [
    "final_prediction = pd.DataFrame({'test_hard_classes' : test_hard_classes})"
   ]
  },
  {
   "cell_type": "code",
   "execution_count": 126,
   "id": "5f3a851a",
   "metadata": {},
   "outputs": [
    {
     "data": {
      "text/plain": [
       "test_hard_classes\n",
       "0                    827\n",
       "1                    604\n",
       "dtype: int64"
      ]
     },
     "execution_count": 126,
     "metadata": {},
     "output_type": "execute_result"
    }
   ],
   "source": [
    "final_prediction.value_counts()"
   ]
  },
  {
   "cell_type": "code",
   "execution_count": 128,
   "id": "87e517d6",
   "metadata": {},
   "outputs": [],
   "source": [
    "final_prediction.to_csv('My_submission_store',index = False)"
   ]
  },
  {
   "cell_type": "code",
   "execution_count": 130,
   "id": "c5e4a2fe",
   "metadata": {},
   "outputs": [
    {
     "data": {
      "text/plain": [
       "array([[1, 0],\n",
       "       [1, 0],\n",
       "       [1, 0],\n",
       "       ...,\n",
       "       [0, 1],\n",
       "       [1, 0],\n",
       "       [1, 0]])"
      ]
     },
     "execution_count": 130,
     "metadata": {},
     "output_type": "execute_result"
    }
   ],
   "source": [
    "test_hard_classes_1"
   ]
  },
  {
   "cell_type": "code",
   "execution_count": 131,
   "id": "89acd92a",
   "metadata": {},
   "outputs": [
    {
     "data": {
      "text/plain": [
       "(3338, 36)"
      ]
     },
     "execution_count": 131,
     "metadata": {},
     "output_type": "execute_result"
    }
   ],
   "source": [
    "store_train.shape"
   ]
  },
  {
   "cell_type": "code",
   "execution_count": 132,
   "id": "9d5da95b",
   "metadata": {},
   "outputs": [
    {
     "data": {
      "text/plain": [
       "(1431, 35)"
      ]
     },
     "execution_count": 132,
     "metadata": {},
     "output_type": "execute_result"
    }
   ],
   "source": [
    "store_test.shape"
   ]
  },
  {
   "cell_type": "code",
   "execution_count": 134,
   "id": "391fba71",
   "metadata": {},
   "outputs": [
    {
     "data": {
      "text/plain": [
       "(1431, 35)"
      ]
     },
     "execution_count": 134,
     "metadata": {},
     "output_type": "execute_result"
    }
   ],
   "source": [
    "store_test.shape"
   ]
  },
  {
   "cell_type": "code",
   "execution_count": null,
   "id": "29b2ca8a",
   "metadata": {},
   "outputs": [],
   "source": []
  }
 ],
 "metadata": {
  "kernelspec": {
   "display_name": "Python 3",
   "language": "python",
   "name": "python3"
  },
  "language_info": {
   "codemirror_mode": {
    "name": "ipython",
    "version": 3
   },
   "file_extension": ".py",
   "mimetype": "text/x-python",
   "name": "python",
   "nbconvert_exporter": "python",
   "pygments_lexer": "ipython3",
   "version": "3.8.8"
  }
 },
 "nbformat": 4,
 "nbformat_minor": 5
}
